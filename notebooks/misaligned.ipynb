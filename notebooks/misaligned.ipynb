{
 "cells": [
  {
   "cell_type": "code",
   "execution_count": 1,
   "metadata": {},
   "outputs": [],
   "source": [
    "import sys\n",
    "import os\n",
    "sys.path.append('/global/u2/c/caditi97/exatrkx-ctd2020')\n",
    "%matplotlib inline\n",
    "import warnings\n",
    "warnings.filterwarnings(\"ignore\")\n",
    "from utils_robust import *"
   ]
  },
  {
   "cell_type": "code",
   "execution_count": 2,
   "metadata": {},
   "outputs": [],
   "source": [
    "def filter_one(vol_id, lay_id, neighbors, volume_ids, layer_ids):\n",
    "    adj_layers = [[8,4]]\n",
    "    neighbor_vol_id = volume_ids[neighbors].reshape(-1,1)\n",
    "    neighbor_lay_id = layer_ids[neighbors].reshape(-1,1)\n",
    "    vol_lay_ids = np.concatenate((neighbor_vol_id, neighbor_lay_id), axis=1)\n",
    "    keep_neighbors = (adj_layers[0]==vol_lay_ids).all(axis=1)\n",
    "#     print(\"1 adj_layer:\", len(keep_neighbors))\n",
    "    return np.array(neighbors)[keep_neighbors]"
   ]
  },
  {
   "cell_type": "code",
   "execution_count": 3,
   "metadata": {},
   "outputs": [],
   "source": [
    "def get_one_emb_eff_purity(index, hits, truth, emb_neighbors, only_adjacent=False):\n",
    "    vol = hits[['volume_id', 'layer_id']].values.T\n",
    "    hit = hits.iloc[index]\n",
    "    pid = truth.iloc[index]['particle_id']\n",
    "    \n",
    "    # get true neighbors based on particle id\n",
    "    if pid == 0:\n",
    "        true_neighbors = []\n",
    "    else:\n",
    "        #total hits in that track\n",
    "        hit_idx = truth[truth['particle_id']==pid]['hit_id']\n",
    "        true_hits = hits[hits['hit_id'].isin(hit_idx) & (hits['hit_id'] != hit['hit_id'])]\n",
    "        true_neighbors = true_hits.index.values.astype(int)\n",
    "        if only_adjacent:\n",
    "            true_neighbors = filter_one(hit['volume_id'], hit['layer_id'], true_neighbors, vol[0], vol[1])\n",
    "    \n",
    "    emb_neighbors = emb_neighbors[index]\n",
    "    if only_adjacent:\n",
    "        emb_neighbors = filter_one(hit['volume_id'], hit['layer_id'], emb_neighbors, vol[0], vol[1])\n",
    "    \n",
    "    # calculate purity and eff\n",
    "    n_true_neighbors = sum(map(lambda n : n in true_neighbors, emb_neighbors))\n",
    "    purity = n_true_neighbors / len(emb_neighbors) if len(emb_neighbors) > 0 else None\n",
    "    efficiency = n_true_neighbors / len(true_neighbors) if len(true_neighbors) > 0 else None\n",
    "    return purity, efficiency, n_true_neighbors, len(emb_neighbors), len(true_neighbors)"
   ]
  },
  {
   "cell_type": "code",
   "execution_count": 4,
   "metadata": {},
   "outputs": [],
   "source": [
    "def get_emb_eff_purity(hits, truth, emb_neighbors, vol=None, layer=None, only_adjacent=False):\n",
    "    n_iter = len(hits)\n",
    "    purity = []\n",
    "    efficiency = []\n",
    "    eff_n = []\n",
    "    true_in = [] # true hits inside radius\n",
    "    total_in = [] # total hits inside radius\n",
    "    total_all = [] # total hits across event\n",
    "    \n",
    "    for i in tqdm(range(n_iter)):\n",
    "        seed_hitid = hits.iloc[i]['hit_id']\n",
    "        seed_hit = hits[hits['hit_id'] == seed_hitid]\n",
    "        vid = seed_hit['volume_id'].values.astype(int)\n",
    "        lid = seed_hit['layer_id'].values.astype(int)\n",
    "        if (vol == vid) and (lid == layer):\n",
    "            p, eff, tr_in, to_in, to_all = get_one_emb_eff_purity(i, hits, truth, emb_neighbors, only_adjacent)\n",
    "            if p: purity.append(p)\n",
    "            if eff: efficiency.append(eff)\n",
    "            if tr_in: true_in.append(tr_in)\n",
    "            if to_in: total_in.append(to_in)\n",
    "            if to_all: total_all.append(to_all)\n",
    "                \n",
    "    return purity, efficiency, true_in, total_in, total_all"
   ]
  },
  {
   "cell_type": "code",
   "execution_count": 5,
   "metadata": {
    "jupyter": {
     "source_hidden": true
    }
   },
   "outputs": [],
   "source": [
    "def use_filter(hits, neighbors):\n",
    "    vol = hits[['volume_id', 'layer_id']].values.T\n",
    "\n",
    "    batch_size = 64\n",
    "    num_workers = 12 if DEVICE=='cuda' else 0\n",
    "    dataset = EdgeData(hits[feature_names].values, vol, neighbors)\n",
    "    loader = DataLoader(dataset,\n",
    "                        batch_size = batch_size,\n",
    "                        num_workers = num_workers,\n",
    "                        collate_fn = my_collate)\n",
    "    # apply filter model\n",
    "    idx_pairs, scores = predict_pairs(loader, filter_model, batch_size)\n",
    "    filter_pairs, _ = apply_filter(idx_pairs, scores, 0.95)\n",
    "    filter_pairs = [(pair[0], pair[1]) for pair in filter_pairs]\n",
    "    return idx_pairs, filter_pairs"
   ]
  },
  {
   "cell_type": "code",
   "execution_count": 6,
   "metadata": {
    "jupyter": {
     "source_hidden": true
    }
   },
   "outputs": [],
   "source": [
    "def get_filter_eff_purity(hits, truth, idx_pairs, fiter_pairs):\n",
    "    # get true pairs\n",
    "    true_pairs = []\n",
    "    truth_np = np.array(truth.values)\n",
    "    \n",
    "    with torch.autograd.no_grad():\n",
    "        for i, pair in tqdm(enumerate(idx_pairs)):\n",
    "            hit_a = truth_np[pair[0], 1]\n",
    "            hit_b = truth_np[pair[1], 1]\n",
    "            if hit_a != 0 and hit_a == hit_b: #compare particle id\n",
    "                true_pairs.append((pair[0], pair[1]))\n",
    "    \n",
    "    # calculate efficiency and purity\n",
    "    true_pairs_set = frozenset(true_pairs)\n",
    "    n_true_pairs = sum(map(lambda n : n in true_pairs_set, filter_pairs))\n",
    "    purity = n_true_pairs / len(filter_pairs)\n",
    "    efficiency = n_true_pairs / len(true_pairs)\n",
    "    return purity, efficiency"
   ]
  },
  {
   "cell_type": "code",
   "execution_count": 7,
   "metadata": {
    "jupyter": {
     "source_hidden": true
    }
   },
   "outputs": [],
   "source": [
    "def get_overall_eff_purity(hits, truth, idx_pairs, filter_pairs):\n",
    "    vol = hits[['volume_id', 'layer_id']].values.T\n",
    "    # get true pairs from original dataset\n",
    "    true_pairs = []\n",
    "    for pid in tqdm(truth['particle_id'].unique()):\n",
    "        if pid == 0: continue\n",
    "        seed_hits = hits[truth['particle_id']==pid].index.values.astype(int)\n",
    "        for i in seed_hits:\n",
    "            hit = hits.iloc[i]\n",
    "            true_neighbors = filter_one_neighborhood(hit['volume_id'], hit['layer_id'], seed_hits, vol[0], vol[1])\n",
    "            true_pairs += [(i, n) for n in true_neighbors]\n",
    "    \n",
    "    # calculate efficiency and purity\n",
    "    true_pairs_set = frozenset(true_pairs)\n",
    "    n_true_pairs = sum(map(lambda n : n in true_pairs_set, filter_pairs))\n",
    "    purity = n_true_pairs / len(filter_pairs)\n",
    "    efficiency = n_true_pairs / len(true_pairs)\n",
    "    return purity, efficiency"
   ]
  },
  {
   "cell_type": "code",
   "execution_count": 8,
   "metadata": {},
   "outputs": [],
   "source": [
    "def get_track_ratio(hits,truth,neighbors,oghits,vol=None,layer=None):\n",
    "    track_r = []\n",
    "    diff = []\n",
    "    \n",
    "    for idx in tqdm(range(len(neighbors))):\n",
    "        seed_hitid = hits.iloc[idx]['hit_id']\n",
    "        og_hitid = oghits.iloc[idx]['hit_id']\n",
    "        og_hit = oghits[oghits['hit_id'] == og_hitid]\n",
    "        seed_hit = hits[hits['hit_id'] == seed_hitid]\n",
    "        vid = seed_hit['volume_id'].values.astype(int)\n",
    "        lid = seed_hit['layer_id'].values.astype(int)\n",
    "        \n",
    "        # select seed hits only in specified volume \n",
    "        if (vid == vol) and (lid == layer):\n",
    "            # check misalignment\n",
    "            d = seed_hit['x'].values - og_hit['x'].values\n",
    "            diff.append(statistics.mean(d))\n",
    "#             print(seed_hit['x'].values)\n",
    "#             print(\"diff per seed hit = \", d)\n",
    "            # inside neighborhood\n",
    "            hitidx = neighbors[idx]\n",
    "            hitids = hits.iloc[hitidx]['hit_id'].values\n",
    "            sel_hits = hits[hits['hit_id'].isin(hitids)]\n",
    "            selhits_np = np.array(sel_hits.values)\n",
    "            # get track for seedhit\n",
    "            pid = truth.iloc[idx]['particle_id']\n",
    "            whole_track = []\n",
    "            if pid == 0:\n",
    "                whole_track = []\n",
    "            else:\n",
    "                whole_track = truth[truth['particle_id']==pid]['hit_id']\n",
    "            track_hits = hits[hits['hit_id'].isin(whole_track) & (hits['hit_id'] != seed_hitid)]\n",
    "            track_ids = track_hits['hit_id']\n",
    "            track_in = len(sel_hits[sel_hits['hit_id'].isin(track_ids)])\n",
    "            total_track = len(whole_track)\n",
    "            r = track_in/total_track\n",
    "            track_r.append(r)\n",
    "            \n",
    "    print(\"Diff overall = \", statistics.mean(diff), len(diff))\n",
    "    #print(\"mean diff = \" + str(statistics.mean(diff)))\n",
    "    return (statistics.mean(track_r)), len(track_r)"
   ]
  },
  {
   "cell_type": "code",
   "execution_count": 9,
   "metadata": {},
   "outputs": [],
   "source": [
    "def get_misaligned_stat(event_path,mcm,vol,layer,filter_one=False):\n",
    "    e_eff = []\n",
    "    e_purity = []\n",
    "    track_r_avg = []\n",
    "    diff=[]\n",
    "    og_event_name = \"event000009900.pickle\"\n",
    "    oghits, ogtruth, ogemb_model, ogfilter_model = get_data(og_event_name,event_path,None)\n",
    "    \n",
    "    fig1, (ax1,ax2,ax3) = plt.subplots(1,3,figsize=(14,7))\n",
    "    \n",
    "    t1 = []\n",
    "    t2 = []\n",
    "    t3 = []\n",
    "    \n",
    "    for i,mc in enumerate(mcm):\n",
    "        miss = []\n",
    "        print(\"----------\")\n",
    "        event_name = \"event000009900_8_\" +mc+ \".pickle\"\n",
    "        print(event_name)\n",
    "        hits, truth, emb_model, filter_model = get_data(event_name,event_path,None)\n",
    "        print(\"getting metrics.....\")\n",
    "        neighbors = get_emb_neighbors(hits[feature_names].values, emb_model, 0.4)\n",
    "        emb_purity, emb_efficiency, true_in, total_in, total_all = get_emb_eff_purity(hits, truth, neighbors, vol, layer,only_adjacent=True)\n",
    "        t1.append(statistics.mean(true_in))\n",
    "        t2.append(statistics.mean(total_in))\n",
    "        t3.append(statistics.mean(total_all))\n",
    "        print(\"getting track ratios.....\")\n",
    "        track_r, len_r = get_track_ratio(hits,truth,neighbors,oghits,vol,layer)\n",
    "        e_eff.append(emb_efficiency)\n",
    "        e_purity.append(emb_purity)\n",
    "        track_r_avg.append(track_r)\n",
    "        \n",
    "        # checks\n",
    "        diff.append(misalignment_diff(hits,oghits))\n",
    "        miss.append(len(hits))\n",
    "        miss.append(len(neighbors))\n",
    "        miss.append(len(emb_purity))\n",
    "        miss.append(len(emb_efficiency))\n",
    "        miss.append(len_r)\n",
    "        print(\"purity = \" +str(statistics.mean(emb_purity)))\n",
    "        print(\"eff = \" +str(statistics.mean(emb_efficiency)))\n",
    "        print(\"track ratio = \" +str(track_r))\n",
    "        print(\"Misalignment = \", diff)\n",
    "        print(\"len[Hits,Neighbors,Purity,Efficiency,Track_Ratio] =  \", miss)\n",
    "    \n",
    "    x = [int(m) for m in mcm]\n",
    "    ax1.plot(x,t1, label='True Hits Inside')\n",
    "    ax2.plot(x,t2, label='Total Hits Inside')\n",
    "    ax3.plot(x,t3, label='Total Hits In Event')\n",
    "    plt.legend()\n",
    "   \n",
    "    return e_eff, e_purity, track_r_avg"
   ]
  },
  {
   "cell_type": "code",
   "execution_count": 10,
   "metadata": {},
   "outputs": [],
   "source": [
    "def misalignment_diff(mishits,oghits):\n",
    "    oghits = oghits[oghits['volume_id']==8]\n",
    "    oghits = oghits[oghits['layer_id']==6]\n",
    "    mishits = mishits[mishits['volume_id']==8]\n",
    "    mishits = mishits[mishits['layer_id']==6]\n",
    "    d = mishits['x']-oghits['x']\n",
    "    return (statistics.mean(d.values))"
   ]
  },
  {
   "cell_type": "code",
   "execution_count": 11,
   "metadata": {},
   "outputs": [],
   "source": [
    "def stat_mean(d):\n",
    "    n = []\n",
    "    for i in d:\n",
    "        n.append(statistics.mean(i))\n",
    "    return n\n",
    "\n",
    "def stat_round(d):\n",
    "    n = []\n",
    "    for i in d:\n",
    "        n.append(round(i,3))\n",
    "    return n"
   ]
  },
  {
   "cell_type": "code",
   "execution_count": 12,
   "metadata": {},
   "outputs": [],
   "source": [
    "# for no ptcut = \"/global/cfs/projectdirs/m3443/usr/aoka/data/artifacts/Training_Example_no_ptcut\"\n",
    "# xiangyang's model = \"/global/cfs/projectdirs/m3443/usr/dtmurnane/artifacts/adjacent/\"\n",
    "# misaligned data = \"/global/cfs/projectdirs/m3443/data/trackml-kaggle/misaligned\"\n",
    "# noise path = f\"/global/cfs/cdirs/m3443/usr/aoka/data/classify/Classify_Example_{noise_keep}/preprocess_raw\"\n",
    "artifact_storage_path = \"/global/cfs/projectdirs/m3443/usr/dtmurnane/artifacts/adjacent/\"\n",
    "best_emb_path = os.path.join(artifact_storage_path, 'metric_learning_emb', 'best_model.pkl')\n",
    "best_filter_path = os.path.join(artifact_storage_path, 'metric_learning_filter', 'best_model.pkl') \n",
    "event_path = \"/global/cfs/projectdirs/m3443/usr/caditi97/exatrkx2020/robust_test/output/misaligned/\"\n",
    "mcm = [\"20\",\"100\",\"400\",\"600\",\"800\",\"1000\"]\n",
    "feature_names = ['x', 'y', 'z', 'cell_count', 'cell_val', 'leta', 'lphi', 'lx', 'ly', 'lz', 'geta', 'gphi']"
   ]
  },
  {
   "cell_type": "code",
   "execution_count": 13,
   "metadata": {},
   "outputs": [
    {
     "name": "stdout",
     "output_type": "stream",
     "text": [
      "noise: 0, number of hits: 45482\n",
      "----------\n",
      "event000009900_8_20.pickle\n",
      "noise: 0, number of hits: 45482\n",
      "getting metrics.....\n"
     ]
    },
    {
     "name": "stderr",
     "output_type": "stream",
     "text": [
      "100%|██████████| 45482/45482 [00:48<00:00, 934.99it/s] \n",
      "  0%|          | 74/45482 [00:00<01:01, 733.47it/s]"
     ]
    },
    {
     "name": "stdout",
     "output_type": "stream",
     "text": [
      "getting track ratios.....\n"
     ]
    },
    {
     "name": "stderr",
     "output_type": "stream",
     "text": [
      "100%|██████████| 45482/45482 [01:23<00:00, 545.62it/s]\n"
     ]
    },
    {
     "name": "stdout",
     "output_type": "stream",
     "text": [
      "Diff overall =  0.019999983 5208\n",
      "purity = 0.014568218535882574\n",
      "eff = 0.9987696195796755\n",
      "track ratio = 0.7764363351488928\n",
      "Misalignment =  [0.019999983]\n",
      "len[Hits,Neighbors,Purity,Efficiency,Track_Ratio] =   [45482, 45482, 5012, 5012, 5208]\n",
      "----------\n",
      "event000009900_8_100.pickle\n",
      "noise: 0, number of hits: 45482\n",
      "getting metrics.....\n"
     ]
    },
    {
     "name": "stderr",
     "output_type": "stream",
     "text": [
      "100%|██████████| 45482/45482 [00:49<00:00, 923.48it/s] \n",
      "  0%|          | 76/45482 [00:00<01:00, 754.91it/s]"
     ]
    },
    {
     "name": "stdout",
     "output_type": "stream",
     "text": [
      "getting track ratios.....\n"
     ]
    },
    {
     "name": "stderr",
     "output_type": "stream",
     "text": [
      "100%|██████████| 45482/45482 [01:24<00:00, 541.25it/s]\n"
     ]
    },
    {
     "name": "stdout",
     "output_type": "stream",
     "text": [
      "Diff overall =  0.09999999 5208\n",
      "purity = 0.014566898650630749\n",
      "eff = 0.9987696195796755\n",
      "track ratio = 0.7764331349440796\n",
      "Misalignment =  [0.019999983, 0.09999999]\n",
      "len[Hits,Neighbors,Purity,Efficiency,Track_Ratio] =   [45482, 45482, 5012, 5012, 5208]\n",
      "----------\n",
      "event000009900_8_400.pickle\n",
      "noise: 0, number of hits: 45482\n",
      "getting metrics.....\n"
     ]
    },
    {
     "name": "stderr",
     "output_type": "stream",
     "text": [
      "100%|██████████| 45482/45482 [00:49<00:00, 924.27it/s] \n",
      "  0%|          | 75/45482 [00:00<01:00, 748.12it/s]"
     ]
    },
    {
     "name": "stdout",
     "output_type": "stream",
     "text": [
      "getting track ratios.....\n"
     ]
    },
    {
     "name": "stderr",
     "output_type": "stream",
     "text": [
      "100%|██████████| 45482/45482 [01:23<00:00, 544.77it/s]\n"
     ]
    },
    {
     "name": "stdout",
     "output_type": "stream",
     "text": [
      "Diff overall =  0.4 5208\n",
      "purity = 0.014573313892450306\n",
      "eff = 0.9987696195796755\n",
      "track ratio = 0.7764180141628299\n",
      "Misalignment =  [0.019999983, 0.09999999, 0.4]\n",
      "len[Hits,Neighbors,Purity,Efficiency,Track_Ratio] =   [45482, 45482, 5012, 5012, 5208]\n",
      "----------\n",
      "event000009900_8_600.pickle\n",
      "noise: 0, number of hits: 45482\n",
      "getting metrics.....\n"
     ]
    },
    {
     "name": "stderr",
     "output_type": "stream",
     "text": [
      "100%|██████████| 45482/45482 [00:50<00:00, 895.26it/s] \n",
      "  0%|          | 72/45482 [00:00<01:03, 712.19it/s]"
     ]
    },
    {
     "name": "stdout",
     "output_type": "stream",
     "text": [
      "getting track ratios.....\n"
     ]
    },
    {
     "name": "stderr",
     "output_type": "stream",
     "text": [
      "100%|██████████| 45482/45482 [01:24<00:00, 540.00it/s]\n"
     ]
    },
    {
     "name": "stdout",
     "output_type": "stream",
     "text": [
      "Diff overall =  0.59999996 5208\n",
      "purity = 0.01457500416465277\n",
      "eff = 0.9987696195796755\n",
      "track ratio = 0.7764272268736554\n",
      "Misalignment =  [0.019999983, 0.09999999, 0.4, 0.59999996]\n",
      "len[Hits,Neighbors,Purity,Efficiency,Track_Ratio] =   [45482, 45482, 5012, 5012, 5208]\n",
      "----------\n",
      "event000009900_8_800.pickle\n",
      "noise: 0, number of hits: 45482\n",
      "getting metrics.....\n"
     ]
    },
    {
     "name": "stderr",
     "output_type": "stream",
     "text": [
      "100%|██████████| 45482/45482 [00:48<00:00, 928.55it/s] \n",
      "  0%|          | 76/45482 [00:00<01:00, 750.55it/s]"
     ]
    },
    {
     "name": "stdout",
     "output_type": "stream",
     "text": [
      "getting track ratios.....\n"
     ]
    },
    {
     "name": "stderr",
     "output_type": "stream",
     "text": [
      "100%|██████████| 45482/45482 [01:23<00:00, 543.00it/s]\n"
     ]
    },
    {
     "name": "stdout",
     "output_type": "stream",
     "text": [
      "Diff overall =  0.79999995 5208\n",
      "purity = 0.014574663895791845\n",
      "eff = 0.9987696195796755\n",
      "track ratio = 0.7764092564927818\n",
      "Misalignment =  [0.019999983, 0.09999999, 0.4, 0.59999996, 0.79999995]\n",
      "len[Hits,Neighbors,Purity,Efficiency,Track_Ratio] =   [45482, 45482, 5012, 5012, 5208]\n",
      "----------\n",
      "event000009900_8_1000.pickle\n",
      "noise: 0, number of hits: 45482\n",
      "getting metrics.....\n"
     ]
    },
    {
     "name": "stderr",
     "output_type": "stream",
     "text": [
      "100%|██████████| 45482/45482 [00:49<00:00, 917.63it/s] \n",
      "  0%|          | 73/45482 [00:00<01:02, 721.52it/s]"
     ]
    },
    {
     "name": "stdout",
     "output_type": "stream",
     "text": [
      "getting track ratios.....\n"
     ]
    },
    {
     "name": "stderr",
     "output_type": "stream",
     "text": [
      "100%|██████████| 45482/45482 [01:23<00:00, 543.60it/s]\n"
     ]
    },
    {
     "name": "stdout",
     "output_type": "stream",
     "text": [
      "Diff overall =  1.0 5208\n",
      "purity = 0.01457632678216468\n",
      "eff = 0.9986701243433739\n",
      "track ratio = 0.7762590802481355\n",
      "Misalignment =  [0.019999983, 0.09999999, 0.4, 0.59999996, 0.79999995, 1.0]\n",
      "len[Hits,Neighbors,Purity,Efficiency,Track_Ratio] =   [45482, 45482, 5013, 5013, 5208]\n"
     ]
    },
    {
     "data": {
      "image/png": "[encoded data removed]",
      "text/plain": [
       "<Figure size 1008x504 with 3 Axes>"
      ]
     },
     "metadata": {
      "needs_background": "light"
     },
     "output_type": "display_data"
    }
   ],
   "source": [
    "e_eff, e_purity, track_r_avg = get_misaligned_stat(event_path,mcm,8,6,True)"
   ]
  },
  {
   "cell_type": "code",
   "execution_count": 14,
   "metadata": {},
   "outputs": [],
   "source": [
    "# f_e = stat_round(f_eff)\n",
    "# f_p = stat_round(f_purity)\n",
    "emb_eff_round = stat_round(stat_mean(e_eff))\n",
    "emb_purity_round = stat_round(stat_mean(e_purity))"
   ]
  },
  {
   "cell_type": "code",
   "execution_count": 15,
   "metadata": {},
   "outputs": [
    {
     "data": {
      "text/plain": [
       "[0.014568218535882574,\n",
       " 0.014566898650630749,\n",
       " 0.014573313892450306,\n",
       " 0.01457500416465277,\n",
       " 0.014574663895791845,\n",
       " 0.01457632678216468]"
      ]
     },
     "execution_count": 15,
     "metadata": {},
     "output_type": "execute_result"
    }
   ],
   "source": [
    "stat_mean(e_purity)"
   ]
  },
  {
   "cell_type": "code",
   "execution_count": 16,
   "metadata": {},
   "outputs": [
    {
     "data": {
      "text/plain": [
       "[0.7764363351488928,\n",
       " 0.7764331349440796,\n",
       " 0.7764180141628299,\n",
       " 0.7764272268736554,\n",
       " 0.7764092564927818,\n",
       " 0.7762590802481355]"
      ]
     },
     "execution_count": 16,
     "metadata": {},
     "output_type": "execute_result"
    }
   ],
   "source": [
    "track_r_avg"
   ]
  },
  {
   "cell_type": "code",
   "execution_count": 17,
   "metadata": {},
   "outputs": [
    {
     "data": {
      "text/plain": [
       "Text(0, 0.5, 'Efficiency')"
      ]
     },
     "execution_count": 17,
     "metadata": {},
     "output_type": "execute_result"
    },
    {
     "data": {
      "image/png": "[encoded data removed]",
      "text/plain": [
       "<Figure size 504x504 with 1 Axes>"
      ]
     },
     "metadata": {
      "needs_background": "light"
     },
     "output_type": "display_data"
    }
   ],
   "source": [
    "f1, a1 = plt.subplots(figsize=(7,7))\n",
    "x = [int(m) for m in mcm]\n",
    "a1.plot(x,stat_mean(e_eff))\n",
    "a1.set_title(\"Observed Embedding Efficiency\")\n",
    "a1.set_xticks([20,100,400,600,800,1000])\n",
    "a1.set_xlabel(\"Misalignment\")\n",
    "a1.set_ylabel(\"Efficiency\")"
   ]
  },
  {
   "cell_type": "code",
   "execution_count": 18,
   "metadata": {},
   "outputs": [
    {
     "data": {
      "text/plain": [
       "Text(0, 0.5, 'Efficiency')"
      ]
     },
     "execution_count": 18,
     "metadata": {},
     "output_type": "execute_result"
    },
    {
     "data": {
      "image/png": "[encoded data removed]",
      "text/plain": [
       "<Figure size 504x504 with 1 Axes>"
      ]
     },
     "metadata": {
      "needs_background": "light"
     },
     "output_type": "display_data"
    }
   ],
   "source": [
    "f2, a2 = plt.subplots(figsize=(7,7))\n",
    "x = [int(m) for m in mcm]\n",
    "a2.plot(x,stat_mean(e_purity))\n",
    "a2.set_title(\"Embedding Purity\")\n",
    "a2.set_xticks([20,100,400,600,800,1000])\n",
    "a2.set_xlabel(\"Misalignment\")\n",
    "a2.set_ylabel(\"Efficiency\")"
   ]
  },
  {
   "cell_type": "code",
   "execution_count": 19,
   "metadata": {},
   "outputs": [
    {
     "data": {
      "text/plain": [
       "Text(0, 0.5, 'Efficiency')"
      ]
     },
     "execution_count": 19,
     "metadata": {},
     "output_type": "execute_result"
    },
    {
     "data": {
      "image/png": "[encoded data removed]",
      "text/plain": [
       "<Figure size 504x504 with 1 Axes>"
      ]
     },
     "metadata": {
      "needs_background": "light"
     },
     "output_type": "display_data"
    }
   ],
   "source": [
    "f3, a3 = plt.subplots(figsize=(7,7))\n",
    "x = [int(m) for m in mcm]\n",
    "a3.plot(x,track_r_avg)\n",
    "a3.set_title(\"Average Track Ratio / Expected Embedding Efficiency\")\n",
    "a3.set_xticks([20,100,400,600,800,1000])\n",
    "a3.set_xlabel(\"Misalignment\")\n",
    "a3.set_ylabel(\"Efficiency\")"
   ]
  },
  {
   "cell_type": "code",
   "execution_count": 20,
   "metadata": {},
   "outputs": [
    {
     "data": {
      "text/plain": [
       "[8, 4]"
      ]
     },
     "execution_count": 20,
     "metadata": {},
     "output_type": "execute_result"
    }
   ],
   "source": [
    "get_adj_layers(8, 6)[0]"
   ]
  },
  {
   "cell_type": "code",
   "execution_count": 21,
   "metadata": {},
   "outputs": [
    {
     "name": "stdout",
     "output_type": "stream",
     "text": [
      "noise: 0, number of hits: 45482\n",
      "getting metrics.....\n"
     ]
    },
    {
     "name": "stderr",
     "output_type": "stream",
     "text": [
      "100%|██████████| 45482/45482 [00:49<00:00, 920.77it/s] \n",
      "  0%|          | 74/45482 [00:00<01:01, 735.13it/s]"
     ]
    },
    {
     "name": "stdout",
     "output_type": "stream",
     "text": [
      "getting track ratios.....\n"
     ]
    },
    {
     "name": "stderr",
     "output_type": "stream",
     "text": [
      "100%|██████████| 45482/45482 [01:23<00:00, 543.74it/s]"
     ]
    },
    {
     "name": "stdout",
     "output_type": "stream",
     "text": [
      "Diff overall =  0.0 5208\n"
     ]
    },
    {
     "name": "stderr",
     "output_type": "stream",
     "text": [
      "\n"
     ]
    }
   ],
   "source": [
    "original_hits = \"event000009900.pickle\"\n",
    "oghits, ogtruth, ogemb_model, ogfilter_model = get_data(original_hits,event_path,None)\n",
    "print(\"getting metrics.....\")\n",
    "ogneighbors = get_emb_neighbors(oghits[feature_names].values, ogemb_model, 0.4)\n",
    "og_emb_purity, og_emb_efficiency,_,_,_ = get_emb_eff_purity(oghits, ogtruth, ogneighbors, 8, 6, only_adjacent=True)\n",
    "\n",
    "print(\"getting track ratios.....\")\n",
    "og_track_r, og_len_r = get_track_ratio(oghits,ogtruth,ogneighbors,oghits,8,6)\n"
   ]
  },
  {
   "cell_type": "code",
   "execution_count": 22,
   "metadata": {},
   "outputs": [
    {
     "data": {
      "text/plain": [
       "0.014566794277768448"
      ]
     },
     "execution_count": 22,
     "metadata": {},
     "output_type": "execute_result"
    }
   ],
   "source": [
    "statistics.mean(og_emb_purity)"
   ]
  },
  {
   "cell_type": "code",
   "execution_count": 23,
   "metadata": {},
   "outputs": [
    {
     "data": {
      "text/plain": [
       "0.9987696195796755"
      ]
     },
     "execution_count": 23,
     "metadata": {},
     "output_type": "execute_result"
    }
   ],
   "source": [
    "statistics.mean(og_emb_efficiency)"
   ]
  },
  {
   "cell_type": "code",
   "execution_count": 24,
   "metadata": {},
   "outputs": [
    {
     "data": {
      "text/plain": [
       "0.7764363351488928"
      ]
     },
     "execution_count": 24,
     "metadata": {},
     "output_type": "execute_result"
    }
   ],
   "source": [
    "og_track_r"
   ]
  },
  {
   "cell_type": "code",
   "execution_count": 25,
   "metadata": {},
   "outputs": [],
   "source": [
    "e0 = np.zeros(len(e_eff)) + statistics.mean(og_emb_efficiency)\n",
    "obs_eff_loss = e0 - stat_mean(e_eff)"
   ]
  },
  {
   "cell_type": "code",
   "execution_count": 26,
   "metadata": {},
   "outputs": [
    {
     "data": {
      "text/plain": [
       "array([0.00000000e+00, 0.00000000e+00, 0.00000000e+00, 0.00000000e+00,\n",
       "       0.00000000e+00, 9.94952363e-05])"
      ]
     },
     "execution_count": 26,
     "metadata": {},
     "output_type": "execute_result"
    }
   ],
   "source": [
    "obs_eff_loss"
   ]
  },
  {
   "cell_type": "code",
   "execution_count": 27,
   "metadata": {},
   "outputs": [
    {
     "data": {
      "text/plain": [
       "array([0.00000000e+00, 3.20020481e-06, 1.83209861e-05, 9.10827524e-06,\n",
       "       2.70786561e-05, 1.77254901e-04])"
      ]
     },
     "execution_count": 27,
     "metadata": {},
     "output_type": "execute_result"
    }
   ],
   "source": [
    "t0 = np.zeros(len(track_r_avg)) + og_track_r\n",
    "exp_eff_loss = t0 - track_r_avg\n",
    "exp_eff_loss"
   ]
  },
  {
   "cell_type": "code",
   "execution_count": 28,
   "metadata": {},
   "outputs": [
    {
     "data": {
      "text/plain": [
       "array([0.22233328, 0.22233648, 0.22235161, 0.22234239, 0.22236036,\n",
       "       0.22251054])"
      ]
     },
     "execution_count": 28,
     "metadata": {},
     "output_type": "execute_result"
    }
   ],
   "source": [
    "loss = e0 - track_r_avg\n",
    "loss"
   ]
  },
  {
   "cell_type": "code",
   "execution_count": 29,
   "metadata": {},
   "outputs": [
    {
     "data": {
      "text/plain": [
       "Text(0, 0.5, 'Loss')"
      ]
     },
     "execution_count": 29,
     "metadata": {},
     "output_type": "execute_result"
    },
    {
     "data": {
      "image/png": "[encoded data removed]",
      "text/plain": [
       "<Figure size 504x504 with 1 Axes>"
      ]
     },
     "metadata": {
      "needs_background": "light"
     },
     "output_type": "display_data"
    }
   ],
   "source": [
    "f4, a4 = plt.subplots(figsize=(7,7))\n",
    "x = [int(m) for m in mcm]\n",
    "a4.plot(x,exp_eff_loss)\n",
    "a4.set_title(\"Average Track Ratio / Expected Embedding Efficiency Loss\")\n",
    "a4.set_xticks([20,100,400,600,800,1000])\n",
    "a4.set_xlabel(\"Misalignment\")\n",
    "a4.set_ylabel(\"Loss\")"
   ]
  },
  {
   "cell_type": "code",
   "execution_count": 30,
   "metadata": {},
   "outputs": [
    {
     "data": {
      "text/plain": [
       "Text(0, 0.5, 'Loss')"
      ]
     },
     "execution_count": 30,
     "metadata": {},
     "output_type": "execute_result"
    },
    {
     "data": {
      "image/png": "[encoded data removed]",
      "text/plain": [
       "<Figure size 504x504 with 1 Axes>"
      ]
     },
     "metadata": {
      "needs_background": "light"
     },
     "output_type": "display_data"
    }
   ],
   "source": [
    "f5, a5 = plt.subplots(figsize=(7,7))\n",
    "x = [int(m) for m in mcm]\n",
    "a5.plot(x,obs_eff_loss)\n",
    "a5.set_title(\"Observed Efficiency Loss\")\n",
    "a5.set_xticks([20,100,400,600,800,1000])\n",
    "a5.set_xlabel(\"Misalignment\")\n",
    "a5.set_ylabel(\"Loss\")"
   ]
  },
  {
   "cell_type": "code",
   "execution_count": 31,
   "metadata": {},
   "outputs": [
    {
     "name": "stderr",
     "output_type": "stream",
     "text": [
      "*c* argument looks like a single numeric RGB or RGBA sequence, which should be avoided as value-mapping will have precedence in case its length matches with *x* & *y*.  Please use the *color* keyword-argument or provide a 2-D array with a single row if you intend to specify the same RGB or RGBA value for all points.\n",
      "*c* argument looks like a single numeric RGB or RGBA sequence, which should be avoided as value-mapping will have precedence in case its length matches with *x* & *y*.  Please use the *color* keyword-argument or provide a 2-D array with a single row if you intend to specify the same RGB or RGBA value for all points.\n",
      "*c* argument looks like a single numeric RGB or RGBA sequence, which should be avoided as value-mapping will have precedence in case its length matches with *x* & *y*.  Please use the *color* keyword-argument or provide a 2-D array with a single row if you intend to specify the same RGB or RGBA value for all points.\n",
      "*c* argument looks like a single numeric RGB or RGBA sequence, which should be avoided as value-mapping will have precedence in case its length matches with *x* & *y*.  Please use the *color* keyword-argument or provide a 2-D array with a single row if you intend to specify the same RGB or RGBA value for all points.\n",
      "*c* argument looks like a single numeric RGB or RGBA sequence, which should be avoided as value-mapping will have precedence in case its length matches with *x* & *y*.  Please use the *color* keyword-argument or provide a 2-D array with a single row if you intend to specify the same RGB or RGBA value for all points.\n",
      "*c* argument looks like a single numeric RGB or RGBA sequence, which should be avoided as value-mapping will have precedence in case its length matches with *x* & *y*.  Please use the *color* keyword-argument or provide a 2-D array with a single row if you intend to specify the same RGB or RGBA value for all points.\n"
     ]
    },
    {
     "data": {
      "text/plain": [
       "<matplotlib.legend.Legend at 0x2aab9565c110>"
      ]
     },
     "execution_count": 31,
     "metadata": {},
     "output_type": "execute_result"
    },
    {
     "data": {
      "image/png": "[encoded data removed]",
      "text/plain": [
       "<Figure size 504x504 with 1 Axes>"
      ]
     },
     "metadata": {
      "needs_background": "light"
     },
     "output_type": "display_data"
    }
   ],
   "source": [
    "f6, a6 = plt.subplots(figsize=(7,7))\n",
    "a6.set_xlabel(\"Observed\")\n",
    "a6.set_ylabel(\"Expected\")\n",
    "a6.set_title(\"Observed Efficiency Loss vs Expected Efficiency Loss\")\n",
    "# colors = (\"red\", \"green\", \"blue\", \"black\", \"pink\", \"yellow\")\n",
    "colors = sns.color_palette(\"ch:s=.25,rot=-.25\", n_colors=6)\n",
    "\n",
    "for obs,exp,color,mc in zip(obs_eff_loss,exp_eff_loss,colors,mcm):\n",
    "    a6.scatter(obs,exp,c=color,label=mc)\n",
    "\n",
    "plt.legend()"
   ]
  },
  {
   "cell_type": "code",
   "execution_count": 32,
   "metadata": {},
   "outputs": [],
   "source": [
    "# f7, a7 = plt.subplots(figsize=(7,7))\n",
    "# a7.set_xlabel(\"Observed\")\n",
    "# a7.set_ylabel(\"Expected\")\n",
    "# a7.set_title(\"Observed Efficiency Loss vs Expected Efficiency Loss\")\n",
    "# # colors = (\"red\", \"green\", \"blue\", \"black\", \"pink\", \"yellow\")\n",
    "# colors = sns.color_palette(\"ch:s=.25,rot=-.25\", n_colors=6)\n",
    "# colors = colors[:-1].copy()\n",
    "# mcm = mcm[:-1].copy()\n",
    "# obs_eff_loss = obs_eff_loss[:-1].copy()\n",
    "# exp_eff_loss = exp_eff_loss[:-1].copy()\n",
    "\n",
    "# for obs,exp,color,mc in zip(obs_eff_loss,exp_eff_loss,colors,mcm):\n",
    "#     a7.scatter(obs,exp,c=color,label=mc)\n",
    "\n",
    "# plt.legend()"
   ]
  },
  {
   "cell_type": "code",
   "execution_count": null,
   "metadata": {},
   "outputs": [],
   "source": []
  }
 ],
 "metadata": {
  "kernelspec": {
   "display_name": "Python [conda env:.conda-exatrkx]",
   "language": "python",
   "name": "conda-env-.conda-exatrkx-py"
  },
  "language_info": {
   "codemirror_mode": {
    "name": "ipython",
    "version": 3
   },
   "file_extension": ".py",
   "mimetype": "text/x-python",
   "name": "python",
   "nbconvert_exporter": "python",
   "pygments_lexer": "ipython3",
   "version": "3.7.7"
  }
 },
 "nbformat": 4,
 "nbformat_minor": 4
}
