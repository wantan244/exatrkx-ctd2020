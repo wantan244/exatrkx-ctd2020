{
 "cells": [
  {
   "cell_type": "code",
   "execution_count": 1,
   "metadata": {},
   "outputs": [],
   "source": [
    "import sys\n",
    "import os\n",
    "sys.path.append('/global/u2/c/caditi97/exatrkx-ctd2020')\n",
    "%matplotlib inline\n",
    "import warnings\n",
    "warnings.filterwarnings(\"ignore\")\n",
    "from utils_robust import *"
   ]
  },
  {
   "cell_type": "code",
   "execution_count": 2,
   "metadata": {},
   "outputs": [],
   "source": [
    "def filter_one(vol_id, lay_id, neighbors, volume_ids, layer_ids,one=False):\n",
    "    if one:\n",
    "        adj_layers = [[8,4]] \n",
    "    else:\n",
    "        adj_layers = get_adj_layers(vol_id, lay_id)\n",
    "#     print(neighbors)\n",
    "    neighbor_vol_id = volume_ids[neighbors].reshape(-1,1)\n",
    "    neighbor_lay_id = layer_ids[neighbors].reshape(-1,1)\n",
    "    vol_lay_ids = np.concatenate((neighbor_vol_id, neighbor_lay_id), axis=1)\n",
    "\n",
    "#     print(neighbor_vol_id)\n",
    "#     print(neighbor_lay_id)\n",
    "#     print(vol_lay_ids)\n",
    "    \n",
    "    \n",
    "    if len(adj_layers)==1:\n",
    "        keep_neighbors = (adj_layers[0]==vol_lay_ids).all(axis=1)\n",
    "#         print(\"1 adj_layer:\", keep_neighbors)\n",
    "    else:\n",
    "        keep_below = (adj_layers[0]==vol_lay_ids).all(axis=1)\n",
    "        keep_above = (adj_layers[1]==vol_lay_ids).all(axis=1)\n",
    "        keep_neighbors = np.logical_or(keep_below, keep_above)\n",
    "#         print(\"Many adj_layers:\", keep_neighbors)\n",
    "\n",
    "    return np.array(neighbors)[keep_neighbors]"
   ]
  },
  {
   "cell_type": "code",
   "execution_count": 3,
   "metadata": {},
   "outputs": [],
   "source": [
    "def get_one_emb_eff_purity(index, hits, truth, emb_neighbors, only_adjacent=False, one=False):\n",
    "    vol = hits[['volume_id', 'layer_id']].values.T\n",
    "    hit = hits.iloc[index]\n",
    "    pid = truth.iloc[index]['particle_id']\n",
    "    \n",
    "    # get true neighbors based on particle id\n",
    "    if pid == 0:\n",
    "        true_neighbors = []\n",
    "    else:\n",
    "        #total hits in that track\n",
    "        hit_idx = truth[truth['particle_id']==pid]['hit_id']\n",
    "        true_hits = hits[hits['hit_id'].isin(hit_idx) & (hits['hit_id'] != hit['hit_id'])]\n",
    "        true_neighbors = true_hits.index.values.astype(int)\n",
    "        if only_adjacent:\n",
    "            true_neighbors = filter_one(hit['volume_id'], hit['layer_id'], true_neighbors, vol[0], vol[1],one)\n",
    "    \n",
    "    emb_neighbors = emb_neighbors[index]\n",
    "    if only_adjacent:\n",
    "        emb_neighbors = filter_one(hit['volume_id'], hit['layer_id'], emb_neighbors, vol[0], vol[1],one)\n",
    "    \n",
    "    # calculate purity and eff\n",
    "    n_true_neighbors = sum(map(lambda n : n in true_neighbors, emb_neighbors))\n",
    "    purity = n_true_neighbors / len(emb_neighbors) if len(emb_neighbors) > 0 else None\n",
    "    efficiency = n_true_neighbors / len(true_neighbors) if len(true_neighbors) > 0 else None\n",
    "    return purity, efficiency"
   ]
  },
  {
   "cell_type": "code",
   "execution_count": 4,
   "metadata": {},
   "outputs": [],
   "source": [
    "def get_emb_eff_purity(hits, truth, emb_neighbors, vol=None, layer=None, only_adjacent=False, filter_one=False):\n",
    "    n_iter = len(hits)\n",
    "    purity = []\n",
    "    efficiency = []\n",
    "    eff_n = []\n",
    "    count = 0\n",
    "\n",
    "    for i in tqdm(range(n_iter)):\n",
    "        hits_np = np.array(hits)\n",
    "        seed = hits_np[i]\n",
    "        vid = seed[4]\n",
    "        lid = seed[5]\n",
    "        \n",
    "        # selecting a specific volume\n",
    "        if vol is not None and layer is not None:\n",
    "            if (vid != vol) and (layer != lid):\n",
    "                continue\n",
    "                \n",
    "        count+=1\n",
    "        p, eff = get_one_emb_eff_purity(i, hits, truth, emb_neighbors, only_adjacent,filter_one)\n",
    "        if p: purity.append(p)\n",
    "        if eff: efficiency.append(eff)\n",
    "    \n",
    "    print(\"Hits evaluated = \" +str(count))\n",
    "\n",
    "    return purity, efficiency"
   ]
  },
  {
   "cell_type": "code",
   "execution_count": 5,
   "metadata": {},
   "outputs": [],
   "source": [
    "def use_filter(hits, neighbors):\n",
    "    vol = hits[['volume_id', 'layer_id']].values.T\n",
    "\n",
    "    batch_size = 64\n",
    "    num_workers = 12 if DEVICE=='cuda' else 0\n",
    "    dataset = EdgeData(hits[feature_names].values, vol, neighbors)\n",
    "    loader = DataLoader(dataset,\n",
    "                        batch_size = batch_size,\n",
    "                        num_workers = num_workers,\n",
    "                        collate_fn = my_collate)\n",
    "    # apply filter model\n",
    "    idx_pairs, scores = predict_pairs(loader, filter_model, batch_size)\n",
    "    filter_pairs, _ = apply_filter(idx_pairs, scores, 0.95)\n",
    "    filter_pairs = [(pair[0], pair[1]) for pair in filter_pairs]\n",
    "    return idx_pairs, filter_pairs"
   ]
  },
  {
   "cell_type": "code",
   "execution_count": 6,
   "metadata": {},
   "outputs": [],
   "source": [
    "def get_filter_eff_purity(hits, truth, idx_pairs, fiter_pairs):\n",
    "    # get true pairs\n",
    "    true_pairs = []\n",
    "    truth_np = np.array(truth.values)\n",
    "    \n",
    "    with torch.autograd.no_grad():\n",
    "        for i, pair in tqdm(enumerate(idx_pairs)):\n",
    "            hit_a = truth_np[pair[0], 1]\n",
    "            hit_b = truth_np[pair[1], 1]\n",
    "            if hit_a != 0 and hit_a == hit_b: #compare particle id\n",
    "                true_pairs.append((pair[0], pair[1]))\n",
    "    \n",
    "    # calculate efficiency and purity\n",
    "    true_pairs_set = frozenset(true_pairs)\n",
    "    n_true_pairs = sum(map(lambda n : n in true_pairs_set, filter_pairs))\n",
    "    purity = n_true_pairs / len(filter_pairs)\n",
    "    efficiency = n_true_pairs / len(true_pairs)\n",
    "    return purity, efficiency"
   ]
  },
  {
   "cell_type": "code",
   "execution_count": 7,
   "metadata": {},
   "outputs": [],
   "source": [
    "def get_overall_eff_purity(hits, truth, idx_pairs, filter_pairs):\n",
    "    vol = hits[['volume_id', 'layer_id']].values.T\n",
    "    # get true pairs from original dataset\n",
    "    true_pairs = []\n",
    "    for pid in tqdm(truth['particle_id'].unique()):\n",
    "        if pid == 0: continue\n",
    "        seed_hits = hits[truth['particle_id']==pid].index.values.astype(int)\n",
    "        for i in seed_hits:\n",
    "            hit = hits.iloc[i]\n",
    "            true_neighbors = filter_one_neighborhood(hit['volume_id'], hit['layer_id'], seed_hits, vol[0], vol[1])\n",
    "            true_pairs += [(i, n) for n in true_neighbors]\n",
    "    \n",
    "    # calculate efficiency and purity\n",
    "    true_pairs_set = frozenset(true_pairs)\n",
    "    n_true_pairs = sum(map(lambda n : n in true_pairs_set, filter_pairs))\n",
    "    purity = n_true_pairs / len(filter_pairs)\n",
    "    efficiency = n_true_pairs / len(true_pairs)\n",
    "    return purity, efficiency"
   ]
  },
  {
   "cell_type": "code",
   "execution_count": 8,
   "metadata": {},
   "outputs": [],
   "source": [
    "def get_track_ratio(hits,truth,neighbors,vol=None,layer=None):\n",
    "    track_r = []\n",
    "    for idx in tqdm(range(len(neighbors))):\n",
    "        seed_hitid = hits.iloc[idx]['hit_id']\n",
    "        seed_hit = hits[hits['hit_id'] == seed_hitid]\n",
    "        vid = seed_hit['volume_id'].values.astype(int)\n",
    "        lid = seed_hit['layer_id'].values.astype(int)\n",
    "        \n",
    "        # select seed hits only in specified volume \n",
    "        if vol is not None and layer is not None:\n",
    "            if (vid != vol) and (lid != layer):\n",
    "                continue\n",
    "\n",
    "        # inside neighborhood\n",
    "        hitidx = neighbors[idx]\n",
    "        hitids = hits.iloc[hitidx]['hit_id'].values\n",
    "        sel_hits = hits[hits['hit_id'].isin(hitids)]\n",
    "        selhits_np = np.array(sel_hits.values)\n",
    "        # get track for seedhit\n",
    "        pid = truth.iloc[idx]['particle_id']\n",
    "        whole_track = []\n",
    "        if pid == 0:\n",
    "            whole_track = []\n",
    "        else:\n",
    "            whole_track = truth[truth['particle_id']==pid]['hit_id']\n",
    "        track_hits = hits[hits['hit_id'].isin(whole_track) & (hits['hit_id'] != seed_hitid)]\n",
    "        track_ids = track_hits['hit_id']\n",
    "        track_in = len(sel_hits[sel_hits['hit_id'].isin(track_ids)])\n",
    "        total_track = len(whole_track)\n",
    "        r = track_in/total_track\n",
    "        track_r.append(r)\n",
    "        \n",
    "    print(\"Hits in Volume \" +str(vol)+  \" Layer \" +str(layer)+ \" = \" +str(len(track_r)))\n",
    "    return (statistics.mean(track_r))"
   ]
  },
  {
   "cell_type": "code",
   "execution_count": 9,
   "metadata": {},
   "outputs": [],
   "source": [
    "def get_misaligned_stat(event_path,mcm,vol,layer,event_name=None,filter_one=False):\n",
    "    e_eff = []\n",
    "    e_purity = []\n",
    "    track_r_avg = []\n",
    "    for i,mc in enumerate(mcm):\n",
    "        print(\"----------\")\n",
    "        if event_name is None:\n",
    "            event_name = \"event000009900_\" +str(vol)+ \"_\" +mc+ \".pickle\"\n",
    "        print(\"Volume \" +str(vol)+ \" layer \" +str(layer)+ \" Misalignment = \" +mc+ \" micrometers\")\n",
    "        hits, truth, emb_model, filter_model = get_data(event_name,event_path,None)\n",
    "        \n",
    "        print(\"getting metrics.....\")\n",
    "        neighbors = get_emb_neighbors(hits[feature_names].values, emb_model, 0.4)\n",
    "        emb_purity, emb_efficiency = get_emb_eff_purity(hits, truth, neighbors, vol, layer, only_adjacent=True, filter_one=True)\n",
    "        e_eff.append(emb_efficiency)\n",
    "        e_purity.append(emb_purity)\n",
    "        print(\"getting track ratios.....\")\n",
    "        track_r = get_track_ratio(hits,truth,neighbors,vol,layer)\n",
    "        track_r_avg.append(track_r)\n",
    "        \n",
    "   \n",
    "    return e_eff, e_purity, track_r_avg"
   ]
  },
  {
   "cell_type": "code",
   "execution_count": 10,
   "metadata": {},
   "outputs": [],
   "source": [
    "def stat_mean(d):\n",
    "    n = []\n",
    "    for i in d:\n",
    "        n.append(statistics.mean(i))\n",
    "    return n\n",
    "\n",
    "def stat_round(d):\n",
    "    n = []\n",
    "    for i in d:\n",
    "        n.append(round(i,3))\n",
    "    return n"
   ]
  },
  {
   "cell_type": "code",
   "execution_count": 11,
   "metadata": {},
   "outputs": [],
   "source": [
    "# for no ptcut = \"/global/cfs/projectdirs/m3443/usr/aoka/data/artifacts/Training_Example_no_ptcut\"\n",
    "# xiangyang's model = \"/global/cfs/projectdirs/m3443/usr/dtmurnane/artifacts/adjacent/\"\n",
    "# misaligned data = \"/global/cfs/projectdirs/m3443/data/trackml-kaggle/misaligned\"\n",
    "# noise path = f\"/global/cfs/cdirs/m3443/usr/aoka/data/classify/Classify_Example_{noise_keep}/preprocess_raw\"\n",
    "artifact_storage_path = \"/global/cfs/projectdirs/m3443/usr/dtmurnane/artifacts/adjacent/\"\n",
    "best_emb_path = os.path.join(artifact_storage_path, 'metric_learning_emb', 'best_model.pkl')\n",
    "best_filter_path = os.path.join(artifact_storage_path, 'metric_learning_filter', 'best_model.pkl') \n",
    "event_path = \"/global/cfs/projectdirs/m3443/usr/caditi97/exatrkx2020/robust_test/output/misaligned/\"\n",
    "mcm = [\"20\",\"100\",\"400\",\"600\",\"800\",\"1000\"]\n",
    "feature_names = ['x', 'y', 'z', 'cell_count', 'cell_val', 'leta', 'lphi', 'lx', 'ly', 'lz', 'geta', 'gphi']"
   ]
  },
  {
   "cell_type": "code",
   "execution_count": 12,
   "metadata": {},
   "outputs": [
    {
     "name": "stdout",
     "output_type": "stream",
     "text": [
      "----------\n",
      "Volume 8 layer 6 Misalignment = 20 micrometers\n",
      "noise: 0, number of hits: 45482\n",
      "getting metrics.....\n"
     ]
    },
    {
     "name": "stderr",
     "output_type": "stream",
     "text": [
      "100%|██████████| 45482/45482 [02:22<00:00, 318.32it/s]\n",
      "  0%|          | 24/45482 [00:00<03:13, 234.45it/s]"
     ]
    },
    {
     "name": "stdout",
     "output_type": "stream",
     "text": [
      "Hits evaluated = 27629\n",
      "getting track ratios.....\n"
     ]
    },
    {
     "name": "stderr",
     "output_type": "stream",
     "text": [
      "100%|██████████| 45482/45482 [02:22<00:00, 318.30it/s] \n"
     ]
    },
    {
     "name": "stdout",
     "output_type": "stream",
     "text": [
      "Hits in Volume 8 Layer 6 = 27629\n",
      "----------\n",
      "Volume 8 layer 6 Misalignment = 100 micrometers\n",
      "noise: 0, number of hits: 45482\n",
      "getting metrics.....\n"
     ]
    },
    {
     "name": "stderr",
     "output_type": "stream",
     "text": [
      "100%|██████████| 45482/45482 [02:18<00:00, 327.74it/s] \n",
      "  0%|          | 19/45482 [00:00<04:13, 179.12it/s]"
     ]
    },
    {
     "name": "stdout",
     "output_type": "stream",
     "text": [
      "Hits evaluated = 27629\n",
      "getting track ratios.....\n"
     ]
    },
    {
     "name": "stderr",
     "output_type": "stream",
     "text": [
      "100%|██████████| 45482/45482 [02:22<00:00, 318.64it/s] \n"
     ]
    },
    {
     "name": "stdout",
     "output_type": "stream",
     "text": [
      "Hits in Volume 8 Layer 6 = 27629\n",
      "----------\n",
      "Volume 8 layer 6 Misalignment = 400 micrometers\n",
      "noise: 0, number of hits: 45482\n",
      "getting metrics.....\n"
     ]
    },
    {
     "name": "stderr",
     "output_type": "stream",
     "text": [
      "100%|██████████| 45482/45482 [02:15<00:00, 335.27it/s] \n",
      "  0%|          | 24/45482 [00:00<03:17, 230.48it/s]"
     ]
    },
    {
     "name": "stdout",
     "output_type": "stream",
     "text": [
      "Hits evaluated = 27629\n",
      "getting track ratios.....\n"
     ]
    },
    {
     "name": "stderr",
     "output_type": "stream",
     "text": [
      "100%|██████████| 45482/45482 [02:22<00:00, 318.56it/s] \n"
     ]
    },
    {
     "name": "stdout",
     "output_type": "stream",
     "text": [
      "Hits in Volume 8 Layer 6 = 27629\n",
      "----------\n",
      "Volume 8 layer 6 Misalignment = 600 micrometers\n",
      "noise: 0, number of hits: 45482\n",
      "getting metrics.....\n"
     ]
    },
    {
     "name": "stderr",
     "output_type": "stream",
     "text": [
      "100%|██████████| 45482/45482 [02:16<00:00, 333.46it/s] \n",
      "  0%|          | 21/45482 [00:00<03:40, 206.37it/s]"
     ]
    },
    {
     "name": "stdout",
     "output_type": "stream",
     "text": [
      "Hits evaluated = 27629\n",
      "getting track ratios.....\n"
     ]
    },
    {
     "name": "stderr",
     "output_type": "stream",
     "text": [
      "100%|██████████| 45482/45482 [02:23<00:00, 317.00it/s] \n"
     ]
    },
    {
     "name": "stdout",
     "output_type": "stream",
     "text": [
      "Hits in Volume 8 Layer 6 = 27629\n",
      "----------\n",
      "Volume 8 layer 6 Misalignment = 800 micrometers\n",
      "noise: 0, number of hits: 45482\n",
      "getting metrics.....\n"
     ]
    },
    {
     "name": "stderr",
     "output_type": "stream",
     "text": [
      "100%|██████████| 45482/45482 [02:16<00:00, 333.60it/s] \n",
      "  0%|          | 21/45482 [00:00<03:44, 202.33it/s]"
     ]
    },
    {
     "name": "stdout",
     "output_type": "stream",
     "text": [
      "Hits evaluated = 27629\n",
      "getting track ratios.....\n"
     ]
    },
    {
     "name": "stderr",
     "output_type": "stream",
     "text": [
      "100%|██████████| 45482/45482 [02:23<00:00, 317.78it/s] \n"
     ]
    },
    {
     "name": "stdout",
     "output_type": "stream",
     "text": [
      "Hits in Volume 8 Layer 6 = 27629\n",
      "----------\n",
      "Volume 8 layer 6 Misalignment = 1000 micrometers\n",
      "noise: 0, number of hits: 45482\n",
      "getting metrics.....\n"
     ]
    },
    {
     "name": "stderr",
     "output_type": "stream",
     "text": [
      "100%|██████████| 45482/45482 [02:15<00:00, 335.79it/s] \n",
      "  0%|          | 23/45482 [00:00<03:20, 226.58it/s]"
     ]
    },
    {
     "name": "stdout",
     "output_type": "stream",
     "text": [
      "Hits evaluated = 27629\n",
      "getting track ratios.....\n"
     ]
    },
    {
     "name": "stderr",
     "output_type": "stream",
     "text": [
      "100%|██████████| 45482/45482 [02:23<00:00, 317.66it/s] \n"
     ]
    },
    {
     "name": "stdout",
     "output_type": "stream",
     "text": [
      "Hits in Volume 8 Layer 6 = 27629\n"
     ]
    },
    {
     "data": {
      "image/png": "[encoded data removed]",
      "text/plain": [
       "<Figure size 1152x720 with 6 Axes>"
      ]
     },
     "metadata": {
      "needs_background": "light"
     },
     "output_type": "display_data"
    }
   ],
   "source": [
    "e_eff, e_purity, track_r_avg = get_misalignment_stat(event_path,mcm,8,6,None,True)"
   ]
  },
  {
   "cell_type": "code",
   "execution_count": 13,
   "metadata": {},
   "outputs": [],
   "source": [
    "# f_e = stat_round(f_eff)\n",
    "# f_p = stat_round(f_purity)\n",
    "emb_eff_round = stat_round(stat_mean(e_eff))\n",
    "emb_purity_round = stat_round(stat_mean(e_purity))"
   ]
  },
  {
   "cell_type": "code",
   "execution_count": 14,
   "metadata": {},
   "outputs": [
    {
     "data": {
      "text/plain": [
       "[0.014111516877889996,\n",
       " 0.014111516877889996,\n",
       " 0.014111516877889996,\n",
       " 0.014111516877889996,\n",
       " 0.014111516877889996,\n",
       " 0.014111516877889996]"
      ]
     },
     "execution_count": 14,
     "metadata": {},
     "output_type": "execute_result"
    }
   ],
   "source": [
    "stat_mean(e_purity)"
   ]
  },
  {
   "cell_type": "code",
   "execution_count": 15,
   "metadata": {},
   "outputs": [
    {
     "data": {
      "text/plain": [
       "[0.7310047306474494,\n",
       " 0.7310047306474494,\n",
       " 0.7310047306474494,\n",
       " 0.7310047306474494,\n",
       " 0.7310047306474494,\n",
       " 0.7310047306474494]"
      ]
     },
     "execution_count": 15,
     "metadata": {},
     "output_type": "execute_result"
    }
   ],
   "source": [
    "track_r_avg"
   ]
  },
  {
   "cell_type": "code",
   "execution_count": 16,
   "metadata": {},
   "outputs": [
    {
     "data": {
      "text/plain": [
       "Text(0, 0.5, 'Efficiency')"
      ]
     },
     "execution_count": 16,
     "metadata": {},
     "output_type": "execute_result"
    },
    {
     "data": {
      "image/png": "[encoded data removed]",
      "text/plain": [
       "<Figure size 504x504 with 1 Axes>"
      ]
     },
     "metadata": {
      "needs_background": "light"
     },
     "output_type": "display_data"
    }
   ],
   "source": [
    "f1, a1 = plt.subplots(figsize=(7,7))\n",
    "x = [int(m) for m in mcm]\n",
    "a1.plot(x,stat_mean(e_eff))\n",
    "a1.set_title(\"Observed Embedding Efficiency\")\n",
    "a1.set_xticks([20,100,400,600,800,1000])\n",
    "a1.set_xlabel(\"Misalignment\")\n",
    "a1.set_ylabel(\"Efficiency\")"
   ]
  },
  {
   "cell_type": "code",
   "execution_count": 17,
   "metadata": {},
   "outputs": [
    {
     "data": {
      "text/plain": [
       "Text(0, 0.5, 'Efficiency')"
      ]
     },
     "execution_count": 17,
     "metadata": {},
     "output_type": "execute_result"
    },
    {
     "data": {
      "image/png": "[encoded data removed]",
      "text/plain": [
       "<Figure size 504x504 with 1 Axes>"
      ]
     },
     "metadata": {
      "needs_background": "light"
     },
     "output_type": "display_data"
    }
   ],
   "source": [
    "f2, a2 = plt.subplots(figsize=(7,7))\n",
    "x = [int(m) for m in mcm]\n",
    "a2.plot(x,stat_mean(e_purity))\n",
    "a2.set_title(\"Embedding Purity\")\n",
    "a2.set_xticks([20,100,400,600,800,1000])\n",
    "a2.set_xlabel(\"Misalignment\")\n",
    "a2.set_ylabel(\"Efficiency\")"
   ]
  },
  {
   "cell_type": "code",
   "execution_count": 18,
   "metadata": {},
   "outputs": [
    {
     "data": {
      "text/plain": [
       "Text(0, 0.5, 'Efficiency')"
      ]
     },
     "execution_count": 18,
     "metadata": {},
     "output_type": "execute_result"
    },
    {
     "data": {
      "image/png": "[encoded data removed]",
      "text/plain": [
       "<Figure size 504x504 with 1 Axes>"
      ]
     },
     "metadata": {
      "needs_background": "light"
     },
     "output_type": "display_data"
    }
   ],
   "source": [
    "f3, a3 = plt.subplots(figsize=(7,7))\n",
    "x = [int(m) for m in mcm]\n",
    "a3.plot(x,track_r_avg)\n",
    "a3.set_title(\"Average Track Ratio / Expected Embedding Efficiency\")\n",
    "a3.set_xticks([20,100,400,600,800,1000])\n",
    "a3.set_xlabel(\"Misalignment\")\n",
    "a3.set_ylabel(\"Efficiency\")"
   ]
  },
  {
   "cell_type": "code",
   "execution_count": 19,
   "metadata": {},
   "outputs": [
    {
     "data": {
      "text/plain": [
       "[8, 4]"
      ]
     },
     "execution_count": 19,
     "metadata": {},
     "output_type": "execute_result"
    }
   ],
   "source": [
    "get_adj_layers(8, 6)[0]"
   ]
  },
  {
   "cell_type": "code",
   "execution_count": 20,
   "metadata": {},
   "outputs": [
    {
     "data": {
      "text/plain": [
       "[8, 4]"
      ]
     },
     "execution_count": 20,
     "metadata": {},
     "output_type": "execute_result"
    }
   ],
   "source": [
    "a = [[8,4]]\n",
    "a[0]"
   ]
  },
  {
   "cell_type": "code",
   "execution_count": 26,
   "metadata": {},
   "outputs": [
    {
     "name": "stdout",
     "output_type": "stream",
     "text": [
      "noise: 0, number of hits: 45482\n",
      "getting metrics.....\n"
     ]
    },
    {
     "name": "stderr",
     "output_type": "stream",
     "text": [
      "100%|██████████| 45482/45482 [02:15<00:00, 336.40it/s] \n",
      "  0%|          | 22/45482 [00:00<03:28, 217.54it/s]"
     ]
    },
    {
     "name": "stdout",
     "output_type": "stream",
     "text": [
      "Hits evaluated = 27629\n",
      "getting track ratios.....\n"
     ]
    },
    {
     "name": "stderr",
     "output_type": "stream",
     "text": [
      "100%|██████████| 45482/45482 [02:23<00:00, 317.36it/s] "
     ]
    },
    {
     "name": "stdout",
     "output_type": "stream",
     "text": [
      "Hits in Volume 8 Layer 6 = 27629\n"
     ]
    },
    {
     "name": "stderr",
     "output_type": "stream",
     "text": [
      "\n"
     ]
    }
   ],
   "source": [
    "original_hits = \"event000009900.pickle\"\n",
    "oghits, ogtruth, ogemb_model, ogfilter_model = get_data(original_hits,event_path,None)\n",
    "print(\"getting metrics.....\")\n",
    "ogneighbors = get_emb_neighbors(oghits[feature_names].values, ogemb_model, 0.4)\n",
    "og_emb_purity, og_emb_efficiency = get_emb_eff_purity(oghits, ogtruth, ogneighbors, 8, 6, only_adjacent=True, filter_one=True)\n",
    "\n",
    "print(\"getting track ratios.....\")\n",
    "og_track_r = get_track_ratio(oghits,ogtruth,ogneighbors,8,6)\n"
   ]
  },
  {
   "cell_type": "code",
   "execution_count": 30,
   "metadata": {},
   "outputs": [
    {
     "data": {
      "text/plain": [
       "0.014111165527706998"
      ]
     },
     "execution_count": 30,
     "metadata": {},
     "output_type": "execute_result"
    }
   ],
   "source": [
    "statistics.mean(og_emb_purity)"
   ]
  },
  {
   "cell_type": "code",
   "execution_count": 31,
   "metadata": {},
   "outputs": [
    {
     "data": {
      "text/plain": [
       "0.9989089596561173"
      ]
     },
     "execution_count": 31,
     "metadata": {},
     "output_type": "execute_result"
    }
   ],
   "source": [
    "statistics.mean(og_emb_efficiency)"
   ]
  },
  {
   "cell_type": "code",
   "execution_count": 33,
   "metadata": {},
   "outputs": [
    {
     "data": {
      "text/plain": [
       "0.7310047306474494"
      ]
     },
     "execution_count": 33,
     "metadata": {},
     "output_type": "execute_result"
    }
   ],
   "source": [
    "og_track_r"
   ]
  },
  {
   "cell_type": "code",
   "execution_count": 37,
   "metadata": {},
   "outputs": [],
   "source": [
    "e0 = np.zeros(len(e_eff)) + statistics.mean(og_emb_efficiency)\n",
    "obs_eff_loss = e0 - stat_mean(e_eff)"
   ]
  },
  {
   "cell_type": "code",
   "execution_count": 38,
   "metadata": {},
   "outputs": [
    {
     "data": {
      "text/plain": [
       "array([0., 0., 0., 0., 0., 0.])"
      ]
     },
     "execution_count": 38,
     "metadata": {},
     "output_type": "execute_result"
    }
   ],
   "source": [
    "obs_eff_loss"
   ]
  },
  {
   "cell_type": "code",
   "execution_count": 40,
   "metadata": {},
   "outputs": [
    {
     "data": {
      "text/plain": [
       "array([0., 0., 0., 0., 0., 0.])"
      ]
     },
     "execution_count": 40,
     "metadata": {},
     "output_type": "execute_result"
    }
   ],
   "source": [
    "t0 = np.zeros(len(track_r_avg)) + og_track_r\n",
    "exp_eff_loss = t0 - track_r_avg\n",
    "exp_eff_loss"
   ]
  },
  {
   "cell_type": "code",
   "execution_count": 41,
   "metadata": {},
   "outputs": [
    {
     "data": {
      "text/plain": [
       "array([0.26790423, 0.26790423, 0.26790423, 0.26790423, 0.26790423,\n",
       "       0.26790423])"
      ]
     },
     "execution_count": 41,
     "metadata": {},
     "output_type": "execute_result"
    }
   ],
   "source": [
    "loss = e0 - track_r_avg\n",
    "loss"
   ]
  },
  {
   "cell_type": "code",
   "execution_count": null,
   "metadata": {},
   "outputs": [],
   "source": [
    "f1, a1 = plt.subplots(2,2, figsize=(13,13))\n",
    "x = [int(m) for m in mcm]\n",
    "# a[0][0].plot(x,e_p)\n",
    "# a[0][0].set_title(\"Embedding Purity\")\n",
    "# a[0][0].set_xlabel(\"Misalignment\")\n",
    "# a[0][0].set_xticks([20,100,400,600,800,1000])\n",
    "# a[0][0].set_ylabel(\"Purity\")\n",
    "\n",
    "a[0][0].plot(x,e_e)\n",
    "a[0][0].set_title(\"Observed Efficiency\")\n",
    "a[0][0].set_xticks([20,100,400,600,800,1000])\n",
    "a[0][0].set_xlabel(\"Misalignment\")\n",
    "a[0][0].set_ylabel(\"Efficiency\")\n",
    "\n",
    "a[0][1].plot(x,track_r_avg)\n",
    "a[0][1].set_title(\"Expected Efficiency\")\n",
    "a[0][1].set_xticks([20,100,400,600,800,1000])\n",
    "a[0][1].set_xlabel(\"Misalignment\")\n",
    "a[0][1].set_ylabel(\"Efficiency\")"
   ]
  }
 ],
 "metadata": {
  "kernelspec": {
   "display_name": "Python [conda env:.conda-exatrkx]",
   "language": "python",
   "name": "conda-env-.conda-exatrkx-py"
  },
  "language_info": {
   "codemirror_mode": {
    "name": "ipython",
    "version": 3
   },
   "file_extension": ".py",
   "mimetype": "text/x-python",
   "name": "python",
   "nbconvert_exporter": "python",
   "pygments_lexer": "ipython3",
   "version": "3.7.7"
  }
 },
 "nbformat": 4,
 "nbformat_minor": 4
}
